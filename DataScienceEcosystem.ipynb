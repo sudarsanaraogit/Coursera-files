{
 "cells": [
  {
   "cell_type": "markdown",
   "id": "a111a558",
   "metadata": {},
   "source": [
    "# Data Science Tools and Ecosystem"
   ]
  },
  {
   "cell_type": "markdown",
   "id": "e3677297",
   "metadata": {},
   "source": [
    "## In this notebook, Data Science Tools and Ecosystem are summarized."
   ]
  },
  {
   "cell_type": "markdown",
   "id": "8cf6b6ac",
   "metadata": {},
   "source": [
    "**Objectives:**\n",
    "\n",
    "+ Some popular languages used by Data Scientists\n",
    "+ Some commonly used libraries by Data Scientists\n",
    "+ Popular Data Science Tools\n",
    "+ Simple Arithmetic expressions"
   ]
  },
  {
   "cell_type": "markdown",
   "id": "bddcf8d6",
   "metadata": {},
   "source": [
    "Some of the popular langueges that Data Scientists use are:\n",
    "1. Python\n",
    "1. R language\n",
    "1. Julia\n",
    "1. Java"
   ]
  },
  {
   "cell_type": "markdown",
   "id": "6695a983",
   "metadata": {},
   "source": [
    "Some of the commonly used libraries used by Data Scientists include:\n",
    "\n",
    "* NumPy\n",
    "* Pandas\n",
    "* Matplotlib\n",
    "* Scikit-learn"
   ]
  },
  {
   "cell_type": "markdown",
   "id": "6efb75e7",
   "metadata": {},
   "source": [
    "| Data Science Tools |\n",
    "| ------------------- |\n",
    "| Jupyter Notebook |\n",
    "| MySQL |\n",
    "| Python |\n",
    "| GitHub |\n",
    "| Apache Spark |\n",
    "| Tensor Flow |\n"
   ]
  },
  {
   "cell_type": "markdown",
   "id": "29d0969f",
   "metadata": {},
   "source": [
    "### Below are a few examples of evaluating arithmetic expressions in Python"
   ]
  },
  {
   "cell_type": "code",
   "execution_count": 4,
   "id": "43d95810",
   "metadata": {},
   "outputs": [
    {
     "name": "stdout",
     "output_type": "stream",
     "text": [
      "sum of a & b is  7\n"
     ]
    }
   ],
   "source": [
    "a = 2\n",
    "b = 5\n",
    "print(\"sum of a & b is \", a+b)"
   ]
  },
  {
   "cell_type": "code",
   "execution_count": 5,
   "id": "947359f9",
   "metadata": {},
   "outputs": [
    {
     "data": {
      "text/plain": [
       "17"
      ]
     },
     "execution_count": 5,
     "metadata": {},
     "output_type": "execute_result"
    }
   ],
   "source": [
    "#  This a simple arithmetic expression to mutiply then add integers\n",
    "(3*4)+5"
   ]
  },
  {
   "cell_type": "code",
   "execution_count": 8,
   "id": "b1fd94c9",
   "metadata": {},
   "outputs": [
    {
     "name": "stdout",
     "output_type": "stream",
     "text": [
      "3.3333333333333335\n"
     ]
    }
   ],
   "source": [
    "# This will convert 200 minutes to hours by diving by 60\n",
    "min = 200 \n",
    "hour = min / 60\n",
    "print(hour)"
   ]
  },
  {
   "cell_type": "markdown",
   "id": "fa779e8f",
   "metadata": {},
   "source": [
    "## Author\n",
    "Sudarsana Rao"
   ]
  }
 ],
 "metadata": {
  "kernelspec": {
   "display_name": "Python 3 (ipykernel)",
   "language": "python",
   "name": "python3"
  },
  "language_info": {
   "codemirror_mode": {
    "name": "ipython",
    "version": 3
   },
   "file_extension": ".py",
   "mimetype": "text/x-python",
   "name": "python",
   "nbconvert_exporter": "python",
   "pygments_lexer": "ipython3",
   "version": "3.10.9"
  }
 },
 "nbformat": 4,
 "nbformat_minor": 5
}
